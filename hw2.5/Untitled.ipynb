{
 "cells": [
  {
   "cell_type": "code",
   "execution_count": 32,
   "id": "3166c69f-c793-44c6-8b7f-9bbd68fff461",
   "metadata": {},
   "outputs": [],
   "source": [
    "import pandas as pd"
   ]
  },
  {
   "cell_type": "markdown",
   "id": "14dedade-3012-42dc-8ef2-a7d28e96d4bd",
   "metadata": {},
   "source": [
    "Рост супермаркетов в большинстве населенных городов растет, а также высока конкукунеций на рынке. Набор данных является одним из исторических продаж супермаркетной компании, которая зафиксировала данные в 3 разных филиалах за 3 месяца. Методы прогнозной аналитики данных легко применить с этим набором данных.\n",
    "\n",
    "### Информация об атрибутах\n",
    "\n",
    "Идентификатор счета-фактуры: Идентификационный номер накладной, сгенерированной компьютером\n",
    "\n",
    "Ветвь: Ветвь суперцентра (3 ветви доступны, идентифицированные A, B и C).\n",
    "\n",
    "Город: Расположение суперцентров\n",
    "\n",
    "Тип клиента: Тип клиентов, записанный Участниками для клиентов, использующих карту участника, и Обычный для без карты участника.\n",
    "\n",
    "Пол: Пол типа клиента\n",
    "\n",
    "Линейка продуктов: Общие группы классификации товаров - Электронные аксессуары, Модные аксессуары, Еда и напитки, Здоровье и красота, Дом и образ жизни, Спорт и путешествия\n",
    "\n",
    "Цена за единицу: Цена каждого продукта в долларах США\n",
    "\n",
    "Количество: Количество продуктов, приобретенных клиентом\n",
    "\n",
    "Налог: 5% налоговый сбор за покупку клиентом\n",
    "\n",
    "Итого: Общая стоимость, включая налоги\n",
    "\n",
    "Дата: Дата покупки (запись доступна с января 2019 года по март 2019 года)\n",
    "\n",
    "Время: Время покупки (с 10:00 до 21:00)\n",
    "\n",
    "Оплата: Оплата, используемая клиентом для покупки (3 способа - наличные, кредитная карта и кошелек)\n",
    "\n",
    "COGS: Стоимость проданных товаров\n",
    "\n",
    "Процент валовой маржи: процент валовой маржи\n",
    "\n",
    "Валовой доход: Валовой доход\n",
    "\n"
   ]
  },
  {
   "cell_type": "code",
   "execution_count": 33,
   "id": "87d48bec-4f1c-4e9e-af6e-e6ffa3dec3c2",
   "metadata": {},
   "outputs": [],
   "source": [
    "df = pd.read_csv(\"sales.csv\", index_col=\"Invoice ID\")"
   ]
  },
  {
   "cell_type": "code",
   "execution_count": 34,
   "id": "eb219b7c-297d-4241-9483-5ed4587d191e",
   "metadata": {},
   "outputs": [
    {
     "data": {
      "text/html": [
       "<div>\n",
       "<style scoped>\n",
       "    .dataframe tbody tr th:only-of-type {\n",
       "        vertical-align: middle;\n",
       "    }\n",
       "\n",
       "    .dataframe tbody tr th {\n",
       "        vertical-align: top;\n",
       "    }\n",
       "\n",
       "    .dataframe thead th {\n",
       "        text-align: right;\n",
       "    }\n",
       "</style>\n",
       "<table border=\"1\" class=\"dataframe\">\n",
       "  <thead>\n",
       "    <tr style=\"text-align: right;\">\n",
       "      <th></th>\n",
       "      <th>Branch</th>\n",
       "      <th>City</th>\n",
       "      <th>Customer type</th>\n",
       "      <th>Gender</th>\n",
       "      <th>Product line</th>\n",
       "      <th>Unit price</th>\n",
       "      <th>Quantity</th>\n",
       "      <th>Tax 5%</th>\n",
       "      <th>Total</th>\n",
       "      <th>Date</th>\n",
       "      <th>Time</th>\n",
       "      <th>Payment</th>\n",
       "      <th>cogs</th>\n",
       "      <th>gross margin percentage</th>\n",
       "      <th>gross income</th>\n",
       "      <th>Rating</th>\n",
       "    </tr>\n",
       "    <tr>\n",
       "      <th>Invoice ID</th>\n",
       "      <th></th>\n",
       "      <th></th>\n",
       "      <th></th>\n",
       "      <th></th>\n",
       "      <th></th>\n",
       "      <th></th>\n",
       "      <th></th>\n",
       "      <th></th>\n",
       "      <th></th>\n",
       "      <th></th>\n",
       "      <th></th>\n",
       "      <th></th>\n",
       "      <th></th>\n",
       "      <th></th>\n",
       "      <th></th>\n",
       "      <th></th>\n",
       "    </tr>\n",
       "  </thead>\n",
       "  <tbody>\n",
       "    <tr>\n",
       "      <th>750-67-8428</th>\n",
       "      <td>A</td>\n",
       "      <td>Yangon</td>\n",
       "      <td>Member</td>\n",
       "      <td>Female</td>\n",
       "      <td>Health and beauty</td>\n",
       "      <td>74.69</td>\n",
       "      <td>7</td>\n",
       "      <td>26.1415</td>\n",
       "      <td>548.9715</td>\n",
       "      <td>1/5/2019</td>\n",
       "      <td>13:08</td>\n",
       "      <td>Ewallet</td>\n",
       "      <td>522.83</td>\n",
       "      <td>4.761905</td>\n",
       "      <td>26.1415</td>\n",
       "      <td>9.1</td>\n",
       "    </tr>\n",
       "    <tr>\n",
       "      <th>226-31-3081</th>\n",
       "      <td>C</td>\n",
       "      <td>Naypyitaw</td>\n",
       "      <td>Normal</td>\n",
       "      <td>Female</td>\n",
       "      <td>Electronic accessories</td>\n",
       "      <td>15.28</td>\n",
       "      <td>5</td>\n",
       "      <td>3.8200</td>\n",
       "      <td>80.2200</td>\n",
       "      <td>3/8/2019</td>\n",
       "      <td>10:29</td>\n",
       "      <td>Cash</td>\n",
       "      <td>76.40</td>\n",
       "      <td>4.761905</td>\n",
       "      <td>3.8200</td>\n",
       "      <td>9.6</td>\n",
       "    </tr>\n",
       "  </tbody>\n",
       "</table>\n",
       "</div>"
      ],
      "text/plain": [
       "            Branch       City Customer type  Gender            Product line  \\\n",
       "Invoice ID                                                                    \n",
       "750-67-8428      A     Yangon        Member  Female       Health and beauty   \n",
       "226-31-3081      C  Naypyitaw        Normal  Female  Electronic accessories   \n",
       "\n",
       "             Unit price  Quantity   Tax 5%     Total      Date   Time  \\\n",
       "Invoice ID                                                              \n",
       "750-67-8428       74.69         7  26.1415  548.9715  1/5/2019  13:08   \n",
       "226-31-3081       15.28         5   3.8200   80.2200  3/8/2019  10:29   \n",
       "\n",
       "             Payment    cogs  gross margin percentage  gross income  Rating  \n",
       "Invoice ID                                                                   \n",
       "750-67-8428  Ewallet  522.83                 4.761905       26.1415     9.1  \n",
       "226-31-3081     Cash   76.40                 4.761905        3.8200     9.6  "
      ]
     },
     "execution_count": 34,
     "metadata": {},
     "output_type": "execute_result"
    }
   ],
   "source": [
    "df.head(2)"
   ]
  },
  {
   "cell_type": "code",
   "execution_count": 35,
   "id": "9ba38400-ebbf-49c5-9fc6-335f0e8e2293",
   "metadata": {},
   "outputs": [
    {
     "name": "stdout",
     "output_type": "stream",
     "text": [
      "<class 'pandas.core.frame.DataFrame'>\n",
      "Index: 1000 entries, 750-67-8428 to 849-09-3807\n",
      "Data columns (total 16 columns):\n",
      " #   Column                   Non-Null Count  Dtype  \n",
      "---  ------                   --------------  -----  \n",
      " 0   Branch                   1000 non-null   object \n",
      " 1   City                     1000 non-null   object \n",
      " 2   Customer type            1000 non-null   object \n",
      " 3   Gender                   1000 non-null   object \n",
      " 4   Product line             1000 non-null   object \n",
      " 5   Unit price               1000 non-null   float64\n",
      " 6   Quantity                 1000 non-null   int64  \n",
      " 7   Tax 5%                   1000 non-null   float64\n",
      " 8   Total                    1000 non-null   float64\n",
      " 9   Date                     1000 non-null   object \n",
      " 10  Time                     1000 non-null   object \n",
      " 11  Payment                  1000 non-null   object \n",
      " 12  cogs                     1000 non-null   float64\n",
      " 13  gross margin percentage  1000 non-null   float64\n",
      " 14  gross income             1000 non-null   float64\n",
      " 15  Rating                   1000 non-null   float64\n",
      "dtypes: float64(7), int64(1), object(8)\n",
      "memory usage: 132.8+ KB\n"
     ]
    }
   ],
   "source": [
    "df.info()"
   ]
  },
  {
   "cell_type": "code",
   "execution_count": null,
   "id": "51925d5c-7668-4fd3-9412-b5f58967bc9d",
   "metadata": {},
   "outputs": [],
   "source": [
    "\n"
   ]
  },
  {
   "cell_type": "code",
   "execution_count": 36,
   "id": "a571acb3-8e47-48b6-b7f7-1230786431aa",
   "metadata": {},
   "outputs": [
    {
     "data": {
      "text/plain": [
       "Female    501\n",
       "Male      499\n",
       "Name: Gender, dtype: int64"
      ]
     },
     "execution_count": 36,
     "metadata": {},
     "output_type": "execute_result"
    }
   ],
   "source": [
    "df[\"Gender\"].value_counts()"
   ]
  },
  {
   "cell_type": "code",
   "execution_count": 37,
   "id": "74337499-80fb-456b-8d2a-c935208ab640",
   "metadata": {},
   "outputs": [
    {
     "name": "stdout",
     "output_type": "stream",
     "text": [
      "A    0.340\n",
      "B    0.332\n",
      "C    0.328\n",
      "Name: Branch, dtype: float64\n",
      "Yangon       0.340\n",
      "Mandalay     0.332\n",
      "Naypyitaw    0.328\n",
      "Name: City, dtype: float64\n",
      "Member    0.501\n",
      "Normal    0.499\n",
      "Name: Customer type, dtype: float64\n",
      "Female    0.501\n",
      "Male      0.499\n",
      "Name: Gender, dtype: float64\n",
      "Fashion accessories       0.178\n",
      "Food and beverages        0.174\n",
      "Electronic accessories    0.170\n",
      "Sports and travel         0.166\n",
      "Home and lifestyle        0.160\n",
      "Health and beauty         0.152\n",
      "Name: Product line, dtype: float64\n",
      "83.77    0.003\n",
      "39.62    0.002\n",
      "24.74    0.002\n",
      "19.15    0.002\n",
      "73.47    0.002\n",
      "         ...  \n",
      "57.95    0.001\n",
      "47.65    0.001\n",
      "42.82    0.001\n",
      "48.09    0.001\n",
      "88.34    0.001\n",
      "Name: Unit price, Length: 943, dtype: float64\n",
      "10    0.119\n",
      "1     0.112\n",
      "4     0.109\n",
      "7     0.102\n",
      "5     0.102\n",
      "6     0.098\n",
      "9     0.092\n",
      "2     0.091\n",
      "3     0.090\n",
      "8     0.085\n",
      "Name: Quantity, dtype: float64\n",
      "10.3260    0.002\n",
      "4.4640     0.002\n",
      "4.1540     0.002\n",
      "9.0045     0.002\n",
      "22.4280    0.002\n",
      "           ...  \n",
      "7.2135     0.001\n",
      "19.5895    0.001\n",
      "26.9150    0.001\n",
      "24.2575    0.001\n",
      "30.9190    0.001\n",
      "Name: Tax 5%, Length: 990, dtype: float64\n",
      "216.8460    0.002\n",
      "93.7440     0.002\n",
      "87.2340     0.002\n",
      "189.0945    0.002\n",
      "470.9880    0.002\n",
      "            ...  \n",
      "151.4835    0.001\n",
      "411.3795    0.001\n",
      "565.2150    0.001\n",
      "509.4075    0.001\n",
      "649.2990    0.001\n",
      "Name: Total, Length: 990, dtype: float64\n",
      "2/7/2019     0.020\n",
      "2/15/2019    0.019\n",
      "3/14/2019    0.018\n",
      "3/2/2019     0.018\n",
      "1/8/2019     0.018\n",
      "             ...  \n",
      "1/4/2019     0.006\n",
      "2/28/2019    0.006\n",
      "2/21/2019    0.006\n",
      "3/17/2019    0.006\n",
      "2/1/2019     0.006\n",
      "Name: Date, Length: 89, dtype: float64\n",
      "19:48    0.007\n",
      "14:42    0.007\n",
      "17:38    0.006\n",
      "17:16    0.005\n",
      "11:40    0.005\n",
      "         ...  \n",
      "13:26    0.001\n",
      "11:17    0.001\n",
      "14:57    0.001\n",
      "17:53    0.001\n",
      "19:12    0.001\n",
      "Name: Time, Length: 506, dtype: float64\n",
      "Ewallet        0.345\n",
      "Cash           0.344\n",
      "Credit card    0.311\n",
      "Name: Payment, dtype: float64\n",
      "206.52    0.002\n",
      "89.28     0.002\n",
      "83.08     0.002\n",
      "180.09    0.002\n",
      "448.56    0.002\n",
      "          ...  \n",
      "144.27    0.001\n",
      "391.79    0.001\n",
      "538.30    0.001\n",
      "485.15    0.001\n",
      "618.38    0.001\n",
      "Name: cogs, Length: 990, dtype: float64\n",
      "4.761905    1.0\n",
      "Name: gross margin percentage, dtype: float64\n",
      "10.3260    0.002\n",
      "4.4640     0.002\n",
      "4.1540     0.002\n",
      "9.0045     0.002\n",
      "22.4280    0.002\n",
      "           ...  \n",
      "7.2135     0.001\n",
      "19.5895    0.001\n",
      "26.9150    0.001\n",
      "24.2575    0.001\n",
      "30.9190    0.001\n",
      "Name: gross income, Length: 990, dtype: float64\n",
      "6.0     0.026\n",
      "6.6     0.024\n",
      "4.2     0.022\n",
      "9.5     0.022\n",
      "6.5     0.021\n",
      "        ...  \n",
      "4.0     0.011\n",
      "5.3     0.011\n",
      "8.3     0.011\n",
      "4.6     0.008\n",
      "10.0    0.005\n",
      "Name: Rating, Length: 61, dtype: float64\n"
     ]
    }
   ],
   "source": [
    "for key in df.keys():\n",
    "   \n",
    "    print(df[key].value_counts(normalize=True))"
   ]
  },
  {
   "cell_type": "code",
   "execution_count": 38,
   "id": "f323a726-9994-404f-9c94-d1b643fbb31a",
   "metadata": {},
   "outputs": [
    {
     "data": {
      "text/plain": [
       "<AxesSubplot:>"
      ]
     },
     "execution_count": 38,
     "metadata": {},
     "output_type": "execute_result"
    },
    {
     "data": {
      "image/png": "[encoded data removed]",
      "text/plain": [
       "<Figure size 432x288 with 1 Axes>"
      ]
     },
     "metadata": {
      "needs_background": "light"
     },
     "output_type": "display_data"
    }
   ],
   "source": [
    "df['City'].hist()"
   ]
  },
  {
   "cell_type": "code",
   "execution_count": 39,
   "id": "1b33a953-08e8-4122-813d-6b417a8d222f",
   "metadata": {},
   "outputs": [],
   "source": [
    "import seaborn as sns"
   ]
  },
  {
   "cell_type": "code",
   "execution_count": 43,
   "id": "d5220420-96c0-4587-af9c-5f8cd46dbf45",
   "metadata": {},
   "outputs": [
    {
     "data": {
      "text/plain": [
       "<AxesSubplot:xlabel='Payment', ylabel='Count'>"
      ]
     },
     "execution_count": 43,
     "metadata": {},
     "output_type": "execute_result"
    },
    {
     "data": {
      "image/png": "[encoded data removed]",
      "text/plain": [
       "<Figure size 432x288 with 1 Axes>"
      ]
     },
     "metadata": {
      "needs_background": "light"
     },
     "output_type": "display_data"
    }
   ],
   "source": [
    "sns.histplot(df['Payment'])"
   ]
  },
  {
   "cell_type": "code",
   "execution_count": 44,
   "id": "53a009f0-e1b3-405d-a1ac-a9e41381d321",
   "metadata": {},
   "outputs": [
    {
     "data": {
      "text/plain": [
       "<AxesSubplot:xlabel='Total', ylabel='Count'>"
      ]
     },
     "execution_count": 44,
     "metadata": {},
     "output_type": "execute_result"
    },
    {
     "data": {
      "image/png": "[encoded data removed]",
      "text/plain": [
       "<Figure size 432x288 with 1 Axes>"
      ]
     },
     "metadata": {
      "needs_background": "light"
     },
     "output_type": "display_data"
    }
   ],
   "source": [
    "sns.histplot(df['Total'])"
   ]
  },
  {
   "cell_type": "code",
   "execution_count": 50,
   "id": "83bdee94-042f-4e59-b0d8-40bcaf5fde78",
   "metadata": {},
   "outputs": [],
   "source": [
    "df['payment_bin'] = pd.cut(df['Total'], 10)"
   ]
  },
  {
   "cell_type": "code",
   "execution_count": 55,
   "id": "df5a7a56-7989-45c3-a3a5-7250c0b80a7b",
   "metadata": {},
   "outputs": [
    {
     "data": {
      "text/plain": [
       "payment_bin\n",
       "(9.647, 113.876]      233\n",
       "(113.876, 217.073]    215\n",
       "(217.073, 320.27]     146\n",
       "(320.27, 423.467]     110\n",
       "(423.467, 526.664]     91\n",
       "(526.664, 629.861]     68\n",
       "(629.861, 733.059]     45\n",
       "(733.059, 836.256]     51\n",
       "(836.256, 939.453]     25\n",
       "(939.453, 1042.65]     16\n",
       "Name: cogs, dtype: int64"
      ]
     },
     "execution_count": 55,
     "metadata": {},
     "output_type": "execute_result"
    }
   ],
   "source": [
    "df.groupby('payment_bin')['cogs'].count()"
   ]
  },
  {
   "cell_type": "code",
   "execution_count": 58,
   "id": "c0076f44-20ec-430e-b8fd-98b961194ccb",
   "metadata": {},
   "outputs": [
    {
     "data": {
      "text/plain": [
       "322.96674900000005"
      ]
     },
     "execution_count": 58,
     "metadata": {},
     "output_type": "execute_result"
    }
   ],
   "source": [
    "df['Total'].mean()"
   ]
  },
  {
   "cell_type": "code",
   "execution_count": 59,
   "id": "a6ec9803-4d15-4bac-b831-ae8a2756f003",
   "metadata": {},
   "outputs": [
    {
     "data": {
      "text/plain": [
       "253.848"
      ]
     },
     "execution_count": 59,
     "metadata": {},
     "output_type": "execute_result"
    }
   ],
   "source": [
    "df['Total'].median()"
   ]
  },
  {
   "cell_type": "code",
   "execution_count": 61,
   "id": "3f7c01ff-d307-43fd-9f30-eb7037636a50",
   "metadata": {},
   "outputs": [
    {
     "name": "stderr",
     "output_type": "stream",
     "text": [
      "/tmp/ipykernel_99/3698961737.py:1: FutureWarning: Dropping of nuisance columns in DataFrame reductions (with 'numeric_only=None') is deprecated; in a future version this will raise TypeError.  Select only valid columns before calling the reduction.\n",
      "  df.mean()\n"
     ]
    },
    {
     "data": {
      "text/plain": [
       "Unit price                  55.672130\n",
       "Quantity                     5.510000\n",
       "Tax 5%                      15.379369\n",
       "Total                      322.966749\n",
       "cogs                       307.587380\n",
       "gross margin percentage      4.761905\n",
       "gross income                15.379369\n",
       "Rating                       6.972700\n",
       "dtype: float64"
      ]
     },
     "execution_count": 61,
     "metadata": {},
     "output_type": "execute_result"
    }
   ],
   "source": [
    "df.mean()"
   ]
  },
  {
   "cell_type": "code",
   "execution_count": 62,
   "id": "cc91cef6-0411-412b-85ab-0f230cc1a22c",
   "metadata": {},
   "outputs": [
    {
     "name": "stderr",
     "output_type": "stream",
     "text": [
      "/tmp/ipykernel_99/530051474.py:1: FutureWarning: Dropping of nuisance columns in DataFrame reductions (with 'numeric_only=None') is deprecated; in a future version this will raise TypeError.  Select only valid columns before calling the reduction.\n",
      "  df.median()\n"
     ]
    },
    {
     "data": {
      "text/plain": [
       "Unit price                  55.230000\n",
       "Quantity                     5.000000\n",
       "Tax 5%                      12.088000\n",
       "Total                      253.848000\n",
       "cogs                       241.760000\n",
       "gross margin percentage      4.761905\n",
       "gross income                12.088000\n",
       "Rating                       7.000000\n",
       "dtype: float64"
      ]
     },
     "execution_count": 62,
     "metadata": {},
     "output_type": "execute_result"
    }
   ],
   "source": [
    "df.median()"
   ]
  },
  {
   "cell_type": "code",
   "execution_count": 64,
   "id": "3b29db2b-8c45-468d-9a81-e2cad3d00ce0",
   "metadata": {},
   "outputs": [
    {
     "data": {
      "text/html": [
       "<div>\n",
       "<style scoped>\n",
       "    .dataframe tbody tr th:only-of-type {\n",
       "        vertical-align: middle;\n",
       "    }\n",
       "\n",
       "    .dataframe tbody tr th {\n",
       "        vertical-align: top;\n",
       "    }\n",
       "\n",
       "    .dataframe thead th {\n",
       "        text-align: right;\n",
       "    }\n",
       "</style>\n",
       "<table border=\"1\" class=\"dataframe\">\n",
       "  <thead>\n",
       "    <tr style=\"text-align: right;\">\n",
       "      <th></th>\n",
       "      <th>Unit price</th>\n",
       "      <th>Quantity</th>\n",
       "      <th>Tax 5%</th>\n",
       "      <th>Total</th>\n",
       "      <th>cogs</th>\n",
       "      <th>gross margin percentage</th>\n",
       "      <th>gross income</th>\n",
       "      <th>Rating</th>\n",
       "    </tr>\n",
       "  </thead>\n",
       "  <tbody>\n",
       "    <tr>\n",
       "      <th>count</th>\n",
       "      <td>1000.000000</td>\n",
       "      <td>1000.000000</td>\n",
       "      <td>1000.000000</td>\n",
       "      <td>1000.000000</td>\n",
       "      <td>1000.00000</td>\n",
       "      <td>1.000000e+03</td>\n",
       "      <td>1000.000000</td>\n",
       "      <td>1000.00000</td>\n",
       "    </tr>\n",
       "    <tr>\n",
       "      <th>mean</th>\n",
       "      <td>55.672130</td>\n",
       "      <td>5.510000</td>\n",
       "      <td>15.379369</td>\n",
       "      <td>322.966749</td>\n",
       "      <td>307.58738</td>\n",
       "      <td>4.761905e+00</td>\n",
       "      <td>15.379369</td>\n",
       "      <td>6.97270</td>\n",
       "    </tr>\n",
       "    <tr>\n",
       "      <th>std</th>\n",
       "      <td>26.494628</td>\n",
       "      <td>2.923431</td>\n",
       "      <td>11.708825</td>\n",
       "      <td>245.885335</td>\n",
       "      <td>234.17651</td>\n",
       "      <td>6.131498e-14</td>\n",
       "      <td>11.708825</td>\n",
       "      <td>1.71858</td>\n",
       "    </tr>\n",
       "    <tr>\n",
       "      <th>min</th>\n",
       "      <td>10.080000</td>\n",
       "      <td>1.000000</td>\n",
       "      <td>0.508500</td>\n",
       "      <td>10.678500</td>\n",
       "      <td>10.17000</td>\n",
       "      <td>4.761905e+00</td>\n",
       "      <td>0.508500</td>\n",
       "      <td>4.00000</td>\n",
       "    </tr>\n",
       "    <tr>\n",
       "      <th>25%</th>\n",
       "      <td>32.875000</td>\n",
       "      <td>3.000000</td>\n",
       "      <td>5.924875</td>\n",
       "      <td>124.422375</td>\n",
       "      <td>118.49750</td>\n",
       "      <td>4.761905e+00</td>\n",
       "      <td>5.924875</td>\n",
       "      <td>5.50000</td>\n",
       "    </tr>\n",
       "    <tr>\n",
       "      <th>50%</th>\n",
       "      <td>55.230000</td>\n",
       "      <td>5.000000</td>\n",
       "      <td>12.088000</td>\n",
       "      <td>253.848000</td>\n",
       "      <td>241.76000</td>\n",
       "      <td>4.761905e+00</td>\n",
       "      <td>12.088000</td>\n",
       "      <td>7.00000</td>\n",
       "    </tr>\n",
       "    <tr>\n",
       "      <th>75%</th>\n",
       "      <td>77.935000</td>\n",
       "      <td>8.000000</td>\n",
       "      <td>22.445250</td>\n",
       "      <td>471.350250</td>\n",
       "      <td>448.90500</td>\n",
       "      <td>4.761905e+00</td>\n",
       "      <td>22.445250</td>\n",
       "      <td>8.50000</td>\n",
       "    </tr>\n",
       "    <tr>\n",
       "      <th>max</th>\n",
       "      <td>99.960000</td>\n",
       "      <td>10.000000</td>\n",
       "      <td>49.650000</td>\n",
       "      <td>1042.650000</td>\n",
       "      <td>993.00000</td>\n",
       "      <td>4.761905e+00</td>\n",
       "      <td>49.650000</td>\n",
       "      <td>10.00000</td>\n",
       "    </tr>\n",
       "  </tbody>\n",
       "</table>\n",
       "</div>"
      ],
      "text/plain": [
       "        Unit price     Quantity       Tax 5%        Total        cogs  \\\n",
       "count  1000.000000  1000.000000  1000.000000  1000.000000  1000.00000   \n",
       "mean     55.672130     5.510000    15.379369   322.966749   307.58738   \n",
       "std      26.494628     2.923431    11.708825   245.885335   234.17651   \n",
       "min      10.080000     1.000000     0.508500    10.678500    10.17000   \n",
       "25%      32.875000     3.000000     5.924875   124.422375   118.49750   \n",
       "50%      55.230000     5.000000    12.088000   253.848000   241.76000   \n",
       "75%      77.935000     8.000000    22.445250   471.350250   448.90500   \n",
       "max      99.960000    10.000000    49.650000  1042.650000   993.00000   \n",
       "\n",
       "       gross margin percentage  gross income      Rating  \n",
       "count             1.000000e+03   1000.000000  1000.00000  \n",
       "mean              4.761905e+00     15.379369     6.97270  \n",
       "std               6.131498e-14     11.708825     1.71858  \n",
       "min               4.761905e+00      0.508500     4.00000  \n",
       "25%               4.761905e+00      5.924875     5.50000  \n",
       "50%               4.761905e+00     12.088000     7.00000  \n",
       "75%               4.761905e+00     22.445250     8.50000  \n",
       "max               4.761905e+00     49.650000    10.00000  "
      ]
     },
     "execution_count": 64,
     "metadata": {},
     "output_type": "execute_result"
    }
   ],
   "source": [
    "df.describe()"
   ]
  },
  {
   "cell_type": "code",
   "execution_count": 65,
   "id": "d51e5960-1abe-44cb-bd1d-7a7b3240c039",
   "metadata": {},
   "outputs": [
    {
     "data": {
      "text/plain": [
       "<AxesSubplot:>"
      ]
     },
     "execution_count": 65,
     "metadata": {},
     "output_type": "execute_result"
    },
    {
     "data": {
      "image/png": "[encoded data removed]",
      "text/plain": [
       "<Figure size 432x288 with 1 Axes>"
      ]
     },
     "metadata": {
      "needs_background": "light"
     },
     "output_type": "display_data"
    }
   ],
   "source": [
    "df.boxplot('Total')"
   ]
  },
  {
   "cell_type": "code",
   "execution_count": 91,
   "id": "aa789f39-397b-4073-9436-a4926811ade1",
   "metadata": {},
   "outputs": [
    {
     "data": {
      "text/html": [
       "<div>\n",
       "<style scoped>\n",
       "    .dataframe tbody tr th:only-of-type {\n",
       "        vertical-align: middle;\n",
       "    }\n",
       "\n",
       "    .dataframe tbody tr th {\n",
       "        vertical-align: top;\n",
       "    }\n",
       "\n",
       "    .dataframe thead th {\n",
       "        text-align: right;\n",
       "    }\n",
       "</style>\n",
       "<table border=\"1\" class=\"dataframe\">\n",
       "  <thead>\n",
       "    <tr style=\"text-align: right;\">\n",
       "      <th></th>\n",
       "      <th>Total</th>\n",
       "      <th>Quantity</th>\n",
       "    </tr>\n",
       "  </thead>\n",
       "  <tbody>\n",
       "    <tr>\n",
       "      <th>Total</th>\n",
       "      <td>1.00000</td>\n",
       "      <td>0.70551</td>\n",
       "    </tr>\n",
       "    <tr>\n",
       "      <th>Quantity</th>\n",
       "      <td>0.70551</td>\n",
       "      <td>1.00000</td>\n",
       "    </tr>\n",
       "  </tbody>\n",
       "</table>\n",
       "</div>"
      ],
      "text/plain": [
       "            Total  Quantity\n",
       "Total     1.00000   0.70551\n",
       "Quantity  0.70551   1.00000"
      ]
     },
     "execution_count": 91,
     "metadata": {},
     "output_type": "execute_result"
    }
   ],
   "source": [
    "df[['Total', 'Quantity']].corr()"
   ]
  },
  {
   "cell_type": "code",
   "execution_count": 98,
   "id": "416e74f9-2d29-4d1d-bfe9-596ec82fcbec",
   "metadata": {},
   "outputs": [
    {
     "data": {
      "text/html": [
       "<div>\n",
       "<style scoped>\n",
       "    .dataframe tbody tr th:only-of-type {\n",
       "        vertical-align: middle;\n",
       "    }\n",
       "\n",
       "    .dataframe tbody tr th {\n",
       "        vertical-align: top;\n",
       "    }\n",
       "\n",
       "    .dataframe thead th {\n",
       "        text-align: right;\n",
       "    }\n",
       "</style>\n",
       "<table border=\"1\" class=\"dataframe\">\n",
       "  <thead>\n",
       "    <tr style=\"text-align: right;\">\n",
       "      <th></th>\n",
       "      <th>count</th>\n",
       "      <th>mean</th>\n",
       "      <th>median</th>\n",
       "    </tr>\n",
       "    <tr>\n",
       "      <th>payment_bin</th>\n",
       "      <th></th>\n",
       "      <th></th>\n",
       "      <th></th>\n",
       "    </tr>\n",
       "  </thead>\n",
       "  <tbody>\n",
       "    <tr>\n",
       "      <th>(9.647, 113.876]</th>\n",
       "      <td>233</td>\n",
       "      <td>2.446352</td>\n",
       "      <td>2.0</td>\n",
       "    </tr>\n",
       "    <tr>\n",
       "      <th>(113.876, 217.073]</th>\n",
       "      <td>215</td>\n",
       "      <td>4.786047</td>\n",
       "      <td>4.0</td>\n",
       "    </tr>\n",
       "    <tr>\n",
       "      <th>(217.073, 320.27]</th>\n",
       "      <td>146</td>\n",
       "      <td>5.486301</td>\n",
       "      <td>5.0</td>\n",
       "    </tr>\n",
       "    <tr>\n",
       "      <th>(320.27, 423.467]</th>\n",
       "      <td>110</td>\n",
       "      <td>6.500000</td>\n",
       "      <td>6.0</td>\n",
       "    </tr>\n",
       "    <tr>\n",
       "      <th>(423.467, 526.664]</th>\n",
       "      <td>91</td>\n",
       "      <td>7.131868</td>\n",
       "      <td>7.0</td>\n",
       "    </tr>\n",
       "    <tr>\n",
       "      <th>(526.664, 629.861]</th>\n",
       "      <td>68</td>\n",
       "      <td>7.632353</td>\n",
       "      <td>7.0</td>\n",
       "    </tr>\n",
       "    <tr>\n",
       "      <th>(629.861, 733.059]</th>\n",
       "      <td>45</td>\n",
       "      <td>8.333333</td>\n",
       "      <td>8.0</td>\n",
       "    </tr>\n",
       "    <tr>\n",
       "      <th>(733.059, 836.256]</th>\n",
       "      <td>51</td>\n",
       "      <td>8.980392</td>\n",
       "      <td>9.0</td>\n",
       "    </tr>\n",
       "    <tr>\n",
       "      <th>(836.256, 939.453]</th>\n",
       "      <td>25</td>\n",
       "      <td>9.480000</td>\n",
       "      <td>10.0</td>\n",
       "    </tr>\n",
       "    <tr>\n",
       "      <th>(939.453, 1042.65]</th>\n",
       "      <td>16</td>\n",
       "      <td>9.812500</td>\n",
       "      <td>10.0</td>\n",
       "    </tr>\n",
       "  </tbody>\n",
       "</table>\n",
       "</div>"
      ],
      "text/plain": [
       "                    count      mean  median\n",
       "payment_bin                                \n",
       "(9.647, 113.876]      233  2.446352     2.0\n",
       "(113.876, 217.073]    215  4.786047     4.0\n",
       "(217.073, 320.27]     146  5.486301     5.0\n",
       "(320.27, 423.467]     110  6.500000     6.0\n",
       "(423.467, 526.664]     91  7.131868     7.0\n",
       "(526.664, 629.861]     68  7.632353     7.0\n",
       "(629.861, 733.059]     45  8.333333     8.0\n",
       "(733.059, 836.256]     51  8.980392     9.0\n",
       "(836.256, 939.453]     25  9.480000    10.0\n",
       "(939.453, 1042.65]     16  9.812500    10.0"
      ]
     },
     "execution_count": 98,
     "metadata": {},
     "output_type": "execute_result"
    }
   ],
   "source": [
    "df.groupby('payment_bin')['Quantity'].agg(['count', 'mean', 'median'])"
   ]
  },
  {
   "cell_type": "code",
   "execution_count": 101,
   "id": "1db82ce6-d11c-4b66-b405-39eb38f20937",
   "metadata": {},
   "outputs": [
    {
     "data": {
      "text/plain": [
       "<AxesSubplot:xlabel='payment_bin'>"
      ]
     },
     "execution_count": 101,
     "metadata": {},
     "output_type": "execute_result"
    },
    {
     "data": {
      "image/png": "[encoded data removed]",
      "text/plain": [
       "<Figure size 432x288 with 1 Axes>"
      ]
     },
     "metadata": {
      "needs_background": "light"
     },
     "output_type": "display_data"
    }
   ],
   "source": [
    "df.groupby('payment_bin')['Quantity'].median().plot(rot=45)"
   ]
  },
  {
   "cell_type": "code",
   "execution_count": 105,
   "id": "43a7ce5e-8264-4126-96d7-8ee17bba0021",
   "metadata": {},
   "outputs": [
    {
     "data": {
      "text/plain": [
       "202.07940580800005"
      ]
     },
     "execution_count": 105,
     "metadata": {},
     "output_type": "execute_result"
    }
   ],
   "source": [
    "(df['Total']-df['Total'].mean()).abs().mean()"
   ]
  },
  {
   "cell_type": "code",
   "execution_count": null,
   "id": "ec14e283-2d41-4dfb-b41a-c89c06731bb9",
   "metadata": {},
   "outputs": [],
   "source": []
  }
 ],
 "metadata": {
  "kernelspec": {
   "display_name": "Python 3 (ipykernel)",
   "language": "python",
   "name": "python3"
  },
  "language_info": {
   "codemirror_mode": {
    "name": "ipython",
    "version": 3
   },
   "file_extension": ".py",
   "mimetype": "text/x-python",
   "name": "python",
   "nbconvert_exporter": "python",
   "pygments_lexer": "ipython3",
   "version": "3.10.5"
  }
 },
 "nbformat": 4,
 "nbformat_minor": 5
}
