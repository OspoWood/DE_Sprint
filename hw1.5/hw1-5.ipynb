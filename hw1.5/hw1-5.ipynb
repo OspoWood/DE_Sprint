{
 "cells": [
  {
   "cell_type": "code",
   "execution_count": 346,
   "id": "4d76f58f-7708-4697-b842-8b08d3ad8d17",
   "metadata": {},
   "outputs": [],
   "source": [
    "import pandas as pd\n",
    "import re\n",
    "import numpy as np\n",
    "import math"
   ]
  },
  {
   "cell_type": "code",
   "execution_count": 384,
   "id": "d56426c7-64c2-4d75-96b3-44e2fb263591",
   "metadata": {},
   "outputs": [],
   "source": [
    "json = pd.read_json(\"data.json\")"
   ]
  },
  {
   "cell_type": "code",
   "execution_count": 390,
   "id": "3bef0506-8457-4f90-953c-ca71acc3b90f",
   "metadata": {},
   "outputs": [
    {
     "data": {
      "text/html": [
       "<div>\n",
       "<style scoped>\n",
       "    .dataframe tbody tr th:only-of-type {\n",
       "        vertical-align: middle;\n",
       "    }\n",
       "\n",
       "    .dataframe tbody tr th {\n",
       "        vertical-align: top;\n",
       "    }\n",
       "\n",
       "    .dataframe thead th {\n",
       "        text-align: right;\n",
       "    }\n",
       "</style>\n",
       "<table border=\"1\" class=\"dataframe\">\n",
       "  <thead>\n",
       "    <tr style=\"text-align: right;\">\n",
       "      <th></th>\n",
       "      <th>title</th>\n",
       "      <th>work_experience</th>\n",
       "      <th>region</th>\n",
       "      <th>salary</th>\n",
       "    </tr>\n",
       "  </thead>\n",
       "  <tbody>\n",
       "    <tr>\n",
       "      <th>0</th>\n",
       "      <td>Backend разработчик со знанием Python</td>\n",
       "      <td>3–6 лет</td>\n",
       "      <td>Алматы</td>\n",
       "      <td>от 2 500 до 3 000 USD на руки</td>\n",
       "    </tr>\n",
       "    <tr>\n",
       "      <th>1</th>\n",
       "      <td>Backend разработчик со знанием Python</td>\n",
       "      <td>3–6 лет</td>\n",
       "      <td>Баку</td>\n",
       "      <td>от 2 500 до 3 000 USD на руки</td>\n",
       "    </tr>\n",
       "    <tr>\n",
       "      <th>2</th>\n",
       "      <td>Backend разработчик со знанием Python</td>\n",
       "      <td>3–6 лет</td>\n",
       "      <td>Бишкек</td>\n",
       "      <td>от 2 500 до 3 000 USD на руки</td>\n",
       "    </tr>\n",
       "    <tr>\n",
       "      <th>3</th>\n",
       "      <td>Backend разработчик</td>\n",
       "      <td>3–6 лет</td>\n",
       "      <td>Минск</td>\n",
       "      <td>от 2 500 до 3 000 USD на руки</td>\n",
       "    </tr>\n",
       "    <tr>\n",
       "      <th>4</th>\n",
       "      <td>Backend разработчик со знанием Python</td>\n",
       "      <td>3–6 лет</td>\n",
       "      <td>Ташкент</td>\n",
       "      <td>от 2 500 до 3 000 USD на руки</td>\n",
       "    </tr>\n",
       "  </tbody>\n",
       "</table>\n",
       "</div>"
      ],
      "text/plain": [
       "                                   title work_experience   region  \\\n",
       "0  Backend разработчик со знанием Python         3–6 лет   Алматы   \n",
       "1  Backend разработчик со знанием Python         3–6 лет     Баку   \n",
       "2  Backend разработчик со знанием Python         3–6 лет   Бишкек   \n",
       "3                    Backend разработчик         3–6 лет    Минск   \n",
       "4  Backend разработчик со знанием Python         3–6 лет  Ташкент   \n",
       "\n",
       "                          salary  \n",
       "0  от 2 500 до 3 000 USD на руки  \n",
       "1  от 2 500 до 3 000 USD на руки  \n",
       "2  от 2 500 до 3 000 USD на руки  \n",
       "3  от 2 500 до 3 000 USD на руки  \n",
       "4  от 2 500 до 3 000 USD на руки  "
      ]
     },
     "execution_count": 390,
     "metadata": {},
     "output_type": "execute_result"
    }
   ],
   "source": [
    "df = pd.DataFrame(json.data.values.tolist())\n",
    "df.head()"
   ]
  },
  {
   "cell_type": "code",
   "execution_count": 349,
   "id": "e3a64135-7a65-41cb-90ac-80697dff4386",
   "metadata": {},
   "outputs": [],
   "source": [
    "df['salary'] = df['salary'].fillna(0)"
   ]
  },
  {
   "cell_type": "code",
   "execution_count": 350,
   "id": "b8ea4242-a752-44b7-ba9e-fab62cd39e08",
   "metadata": {},
   "outputs": [],
   "source": [
    "def get_current_salary(salary):\n",
    "    usd = False\n",
    "    if salary == 0:\n",
    "        return 0\n",
    "    if \"USD\" in salary:\n",
    "        usd = True\n",
    "    m = re.findall(r'\\d+', salary)\n",
    "    if len(m)>0:\n",
    "        s = int(str(m[0])+str(m[1]))\n",
    "        if usd:\n",
    "            return s*60\n",
    "        return s\n",
    "    return 0"
   ]
  },
  {
   "cell_type": "code",
   "execution_count": 351,
   "id": "423142bc-18ff-481b-b4db-7bbf88b3c8db",
   "metadata": {},
   "outputs": [],
   "source": [
    "def get_type_direction(title):\n",
    "    dev =[\"backend\", \"python-разработчик\",\"программист\", \n",
    "          \"python разработчик\",\"python developer\",\"python developer\",\"Django\"]\n",
    "    ml = [\"машин\", \"ml\"]\n",
    "    ds = [\"data scientist\"]\n",
    "    de = [\"data engineer\"]\n",
    "    devops = [\"devops\"]\n",
    "    analyst = [\"analyst\"]\n",
    "    qa = [\"qa\"]\n",
    "    lt = title.lower()\n",
    "    if \"engenering\" in lt:\n",
    "        return \"Software Engenering\"\n",
    "    elif any(s.lower() in lt for s in dev):\n",
    "        return \"developer\"\n",
    "    elif any(s.lower() in lt for s in qa):\n",
    "        return \"QA\"\n",
    "    elif any(s.lower() in lt for s in ml):\n",
    "        return \"ML\"\n",
    "    elif any(s.lower() in lt for s in de):\n",
    "        return \"DE\"\n",
    "    elif any(s.lower() in lt for s in ds):\n",
    "        return \"DS\"\n",
    "    elif any(s.lower() in lt for s in devops):\n",
    "        return \"DevOps\"\n",
    "    elif any(s.lower() in lt for s in analyst):\n",
    "        return \"Analyst\"\n",
    "    else:\n",
    "        return \"etc\""
   ]
  },
  {
   "cell_type": "code",
   "execution_count": 352,
   "id": "8217da05-de86-4965-a1d5-043fb5c20d54",
   "metadata": {},
   "outputs": [],
   "source": [
    "def get_work_experience(work_experience):\n",
    "    if work_experience == 'не требуется':\n",
    "        return 0\n",
    "    if \"более\" in work_experience:\n",
    "        return int(re.findall(r'\\d+', work_experience)[0])\n",
    "    return int(work_experience.split(\"–\")[0])"
   ]
  },
  {
   "cell_type": "code",
   "execution_count": 353,
   "id": "9d7eef47-c78e-4109-9df7-6cbcd880f1b3",
   "metadata": {},
   "outputs": [],
   "source": [
    "df[\"direction\"] = df.apply(lambda x: get_type_direction(x.title), axis=1)\n",
    "df[\"salary\"] = df.apply(lambda x: get_current_salary(x.salary), axis=1)\n",
    "df[\"work_experience\"] = df.apply(lambda x: get_work_experience(x.work_experience), axis=1)"
   ]
  },
  {
   "cell_type": "code",
   "execution_count": 354,
   "id": "061f19a3-59d6-411e-b1d3-221a8b9de144",
   "metadata": {},
   "outputs": [],
   "source": [
    "df = df.replace(0, np.NaN)"
   ]
  },
  {
   "cell_type": "markdown",
   "id": "d8700f09-bb96-49f1-a726-c40d8c6de576",
   "metadata": {},
   "source": [
    "### Сгруппируйте вакансии по направлениями (DS, DE, Software Engenering, etc.)"
   ]
  },
  {
   "cell_type": "code",
   "execution_count": 355,
   "id": "27bdffdd-069f-432d-be3d-333c9f11923b",
   "metadata": {},
   "outputs": [],
   "source": [
    "direction_group = df.groupby(by=\"direction\")"
   ]
  },
  {
   "cell_type": "markdown",
   "id": "0e6d247c-130a-4523-beb2-118dd42de879",
   "metadata": {},
   "source": [
    "### Какая средняя и медианная зарплата по группам вакансий?"
   ]
  },
  {
   "cell_type": "code",
   "execution_count": 356,
   "id": "85ec7082-e5e9-4054-90ac-0e42384b348e",
   "metadata": {},
   "outputs": [
    {
     "name": "stdout",
     "output_type": "stream",
     "text": [
      "direction\n",
      "Analyst       36500.0\n",
      "DE           250000.0\n",
      "DS           100000.0\n",
      "DevOps       200833.0\n",
      "ML           150000.0\n",
      "QA           162000.0\n",
      "developer    140185.0\n",
      "etc          132000.0\n",
      "Name: salary, dtype: float64\n",
      "direction\n",
      "Analyst       36500.0\n",
      "DE           250000.0\n",
      "DS           100000.0\n",
      "DevOps       215000.0\n",
      "ML           150000.0\n",
      "QA           100000.0\n",
      "developer    150000.0\n",
      "etc          100000.0\n",
      "Name: salary, dtype: float64\n"
     ]
    }
   ],
   "source": [
    "print(round(direction_group.salary.mean()))\n",
    "print(round(direction_group.salary.median()))"
   ]
  },
  {
   "cell_type": "markdown",
   "id": "53f910f3-daea-4131-b61a-0e7e8913e50b",
   "metadata": {},
   "source": [
    "### Какая средняя и медианная зарплата по каждому региону?"
   ]
  },
  {
   "cell_type": "code",
   "execution_count": 357,
   "id": "2e444043-db57-4d84-9c51-7c4617e9f8f4",
   "metadata": {},
   "outputs": [],
   "source": [
    "region_group=df.groupby(by=\"region\")"
   ]
  },
  {
   "cell_type": "code",
   "execution_count": 358,
   "id": "201ed7ec-563a-460a-af4f-1fdad109109f",
   "metadata": {},
   "outputs": [
    {
     "name": "stdout",
     "output_type": "stream",
     "text": [
      "region\n",
      "Алматы         225000.0\n",
      "Армения             NaN\n",
      "Архангельск     50000.0\n",
      "Баку           150000.0\n",
      "Балашиха        60000.0\n",
      "                 ...   \n",
      "Чебоксары           NaN\n",
      "Челябинск      100000.0\n",
      "Череповец           NaN\n",
      "Черногория          NaN\n",
      "Ярославль      100000.0\n",
      "Name: salary, Length: 72, dtype: float64\n",
      "region\n",
      "Алматы         225000.0\n",
      "Армения             NaN\n",
      "Архангельск     50000.0\n",
      "Баку           150000.0\n",
      "Балашиха        60000.0\n",
      "                 ...   \n",
      "Чебоксары           NaN\n",
      "Челябинск      100000.0\n",
      "Череповец           NaN\n",
      "Черногория          NaN\n",
      "Ярославль      100000.0\n",
      "Name: salary, Length: 72, dtype: float64\n"
     ]
    }
   ],
   "source": [
    "print(region_group.salary.mean())\n",
    "print(region_group.salary.median())"
   ]
  },
  {
   "cell_type": "markdown",
   "id": "dd1939bc-3db7-441d-9854-ee5b99184d80",
   "metadata": {},
   "source": [
    "### Какая самая высокооплачиваемая из групп вакансий, исходя из их средних зарплат?"
   ]
  },
  {
   "cell_type": "code",
   "execution_count": 359,
   "id": "a9286d09-c790-4634-b5bd-898ab13bdf3c",
   "metadata": {},
   "outputs": [
    {
     "data": {
      "text/plain": [
       "direction\n",
       "DE    250000.0\n",
       "Name: salary, dtype: float64"
      ]
     },
     "execution_count": 359,
     "metadata": {},
     "output_type": "execute_result"
    }
   ],
   "source": [
    "mean_salary = direction_group.salary.mean()\n",
    "max_salary = mean_salary.max()\n",
    "mean_salary.describe\n",
    "mean_salary.loc[mean_salary == max_salary]"
   ]
  },
  {
   "cell_type": "markdown",
   "id": "5e06cfbc-2a03-49dd-b698-9c03a1891e42",
   "metadata": {},
   "source": [
    "### Какое процентное соотношение каждого региона по вакансиям от всех вакансий?"
   ]
  },
  {
   "cell_type": "code",
   "execution_count": 360,
   "id": "c53cbbfd-fad0-48ba-8478-56e81eaf6734",
   "metadata": {},
   "outputs": [],
   "source": [
    "total_vacancy = df.title.count()\n",
    "one_procent = total_vacancy/100\n",
    "reg_stat = round(region_group.title.count()/one_procent,2)"
   ]
  },
  {
   "cell_type": "code",
   "execution_count": 361,
   "id": "f63ae302-6e6e-4b4d-ba08-ef632de55883",
   "metadata": {},
   "outputs": [
    {
     "data": {
      "text/plain": [
       "region\n",
       "Москва             24.00\n",
       "Санкт-Петербург     7.25\n",
       "Минск               2.12\n",
       "Алматы              2.00\n",
       "Нижний Новгород     1.88\n",
       "                   ...  \n",
       "Курган              0.12\n",
       "Омск                0.12\n",
       "Оренбург            0.12\n",
       "Пенза               0.12\n",
       "Королев             0.12\n",
       "Name: title, Length: 72, dtype: float64"
      ]
     },
     "execution_count": 361,
     "metadata": {},
     "output_type": "execute_result"
    }
   ],
   "source": [
    "reg_stat.sort_values(ascending=False)"
   ]
  },
  {
   "cell_type": "markdown",
   "id": "11515367-a033-4206-904a-e872ed2282e7",
   "metadata": {},
   "source": [
    "### Какая корреляция уровня опыта от зарплаты?"
   ]
  },
  {
   "cell_type": "code",
   "execution_count": 363,
   "id": "b7c27498-3fce-4d5a-8467-08457124202b",
   "metadata": {},
   "outputs": [],
   "source": [
    "dfcorr = pd.DataFrame(df, columns=[\"work_experience\",\"salary\"])"
   ]
  },
  {
   "cell_type": "code",
   "execution_count": 367,
   "id": "fa93ea45-8c52-4031-acd8-1c3b69f24aa8",
   "metadata": {},
   "outputs": [
    {
     "data": {
      "text/plain": [
       "0.21594245890514074"
      ]
     },
     "execution_count": 367,
     "metadata": {},
     "output_type": "execute_result"
    }
   ],
   "source": [
    "dfcorr.corr().loc[\"work_experience\",\"salary\"]"
   ]
  },
  {
   "cell_type": "markdown",
   "id": "54fe91ef-489f-46ec-aa64-80986cfc949b",
   "metadata": {},
   "source": [
    "### Сколько должностей в наборе данных?"
   ]
  },
  {
   "cell_type": "code",
   "execution_count": 378,
   "id": "de1990d2-787d-4faa-b035-c5410beae5f0",
   "metadata": {},
   "outputs": [
    {
     "data": {
      "text/plain": [
       "590"
      ]
     },
     "execution_count": 378,
     "metadata": {},
     "output_type": "execute_result"
    }
   ],
   "source": [
    "df[\"title\"].nunique()"
   ]
  },
  {
   "cell_type": "markdown",
   "id": "94f447df-03ad-485a-89d2-8512f20279b3",
   "metadata": {},
   "source": [
    "### Какие 10 наиболее часто встречающихся должностей?"
   ]
  },
  {
   "cell_type": "code",
   "execution_count": 379,
   "id": "554057f9-874b-4b33-b710-77964f7232f3",
   "metadata": {},
   "outputs": [],
   "source": [
    "df_count = df.groupby(['title'])['title'].count().reset_index(\n",
    "  name='Count').sort_values(['Count'], ascending=False)"
   ]
  },
  {
   "cell_type": "code",
   "execution_count": 382,
   "id": "564534ad-adab-43ed-a1f8-3edb8a8fff3a",
   "metadata": {},
   "outputs": [
    {
     "data": {
      "text/html": [
       "<div>\n",
       "<style scoped>\n",
       "    .dataframe tbody tr th:only-of-type {\n",
       "        vertical-align: middle;\n",
       "    }\n",
       "\n",
       "    .dataframe tbody tr th {\n",
       "        vertical-align: top;\n",
       "    }\n",
       "\n",
       "    .dataframe thead th {\n",
       "        text-align: right;\n",
       "    }\n",
       "</style>\n",
       "<table border=\"1\" class=\"dataframe\">\n",
       "  <thead>\n",
       "    <tr style=\"text-align: right;\">\n",
       "      <th></th>\n",
       "      <th>title</th>\n",
       "      <th>Count</th>\n",
       "    </tr>\n",
       "  </thead>\n",
       "  <tbody>\n",
       "    <tr>\n",
       "      <th>184</th>\n",
       "      <td>Python Developer</td>\n",
       "      <td>19</td>\n",
       "    </tr>\n",
       "    <tr>\n",
       "      <th>511</th>\n",
       "      <td>Разработчик Python</td>\n",
       "      <td>17</td>\n",
       "    </tr>\n",
       "    <tr>\n",
       "      <th>466</th>\n",
       "      <td>Программист Python</td>\n",
       "      <td>14</td>\n",
       "    </tr>\n",
       "    <tr>\n",
       "      <th>202</th>\n",
       "      <td>Python developer</td>\n",
       "      <td>12</td>\n",
       "    </tr>\n",
       "    <tr>\n",
       "      <th>415</th>\n",
       "      <td>Инженер-программист</td>\n",
       "      <td>9</td>\n",
       "    </tr>\n",
       "    <tr>\n",
       "      <th>396</th>\n",
       "      <td>Ведущий сетевой инженер в ЦОД</td>\n",
       "      <td>9</td>\n",
       "    </tr>\n",
       "    <tr>\n",
       "      <th>327</th>\n",
       "      <td>Senior/Lead Python-разработчик</td>\n",
       "      <td>6</td>\n",
       "    </tr>\n",
       "    <tr>\n",
       "      <th>231</th>\n",
       "      <td>Python-разработчик</td>\n",
       "      <td>6</td>\n",
       "    </tr>\n",
       "    <tr>\n",
       "      <th>61</th>\n",
       "      <td>DevOps Engineer</td>\n",
       "      <td>6</td>\n",
       "    </tr>\n",
       "    <tr>\n",
       "      <th>140</th>\n",
       "      <td>Middle Python Developer</td>\n",
       "      <td>5</td>\n",
       "    </tr>\n",
       "  </tbody>\n",
       "</table>\n",
       "</div>"
      ],
      "text/plain": [
       "                              title  Count\n",
       "184                Python Developer     19\n",
       "511              Разработчик Python     17\n",
       "466              Программист Python     14\n",
       "202                Python developer     12\n",
       "415             Инженер-программист      9\n",
       "396   Ведущий сетевой инженер в ЦОД      9\n",
       "327  Senior/Lead Python-разработчик      6\n",
       "231              Python-разработчик      6\n",
       "61                  DevOps Engineer      6\n",
       "140         Middle Python Developer      5"
      ]
     },
     "execution_count": 382,
     "metadata": {},
     "output_type": "execute_result"
    }
   ],
   "source": [
    "df_count[:10]"
   ]
  },
  {
   "cell_type": "code",
   "execution_count": 383,
   "id": "9ca83b0d-ac47-4854-b67d-3e1679c64c7f",
   "metadata": {},
   "outputs": [
    {
     "data": {
      "text/html": [
       "<div>\n",
       "<style scoped>\n",
       "    .dataframe tbody tr th:only-of-type {\n",
       "        vertical-align: middle;\n",
       "    }\n",
       "\n",
       "    .dataframe tbody tr th {\n",
       "        vertical-align: top;\n",
       "    }\n",
       "\n",
       "    .dataframe thead th {\n",
       "        text-align: right;\n",
       "    }\n",
       "</style>\n",
       "<table border=\"1\" class=\"dataframe\">\n",
       "  <thead>\n",
       "    <tr style=\"text-align: right;\">\n",
       "      <th></th>\n",
       "      <th>title</th>\n",
       "      <th>work_experience</th>\n",
       "      <th>region</th>\n",
       "      <th>salary</th>\n",
       "      <th>direction</th>\n",
       "    </tr>\n",
       "  </thead>\n",
       "  <tbody>\n",
       "    <tr>\n",
       "      <th>795</th>\n",
       "      <td>Заместитель начальника отдела разработки инфор...</td>\n",
       "      <td>3.0</td>\n",
       "      <td>NaN</td>\n",
       "      <td>100000.0</td>\n",
       "      <td>etc</td>\n",
       "    </tr>\n",
       "    <tr>\n",
       "      <th>796</th>\n",
       "      <td>Разработчик машинного обучения в Алису</td>\n",
       "      <td>3.0</td>\n",
       "      <td>Москва, Парк культуры</td>\n",
       "      <td>NaN</td>\n",
       "      <td>ML</td>\n",
       "    </tr>\n",
       "    <tr>\n",
       "      <th>797</th>\n",
       "      <td>Инженер по тестированию / QA engineer</td>\n",
       "      <td>1.0</td>\n",
       "      <td>Москва</td>\n",
       "      <td>NaN</td>\n",
       "      <td>QA</td>\n",
       "    </tr>\n",
       "    <tr>\n",
       "      <th>798</th>\n",
       "      <td>Data analyst (CV)</td>\n",
       "      <td>3.0</td>\n",
       "      <td>Алматы</td>\n",
       "      <td>NaN</td>\n",
       "      <td>Analyst</td>\n",
       "    </tr>\n",
       "    <tr>\n",
       "      <th>799</th>\n",
       "      <td>Администратор сред</td>\n",
       "      <td>1.0</td>\n",
       "      <td>Москва</td>\n",
       "      <td>NaN</td>\n",
       "      <td>etc</td>\n",
       "    </tr>\n",
       "  </tbody>\n",
       "</table>\n",
       "</div>"
      ],
      "text/plain": [
       "                                                 title  work_experience  \\\n",
       "795  Заместитель начальника отдела разработки инфор...              3.0   \n",
       "796             Разработчик машинного обучения в Алису              3.0   \n",
       "797              Инженер по тестированию / QA engineer              1.0   \n",
       "798                                  Data analyst (CV)              3.0   \n",
       "799                                 Администратор сред              1.0   \n",
       "\n",
       "                    region    salary direction  \n",
       "795                    NaN  100000.0       etc  \n",
       "796  Москва, Парк культуры       NaN        ML  \n",
       "797                 Москва       NaN        QA  \n",
       "798                 Алматы       NaN   Analyst  \n",
       "799                 Москва       NaN       etc  "
      ]
     },
     "execution_count": 383,
     "metadata": {},
     "output_type": "execute_result"
    }
   ],
   "source": [
    "df.tail()"
   ]
  },
  {
   "cell_type": "code",
   "execution_count": null,
   "id": "beeb83a3-8bb2-4d3b-9e04-ef5e195c564d",
   "metadata": {},
   "outputs": [],
   "source": []
  }
 ],
 "metadata": {
  "kernelspec": {
   "display_name": "Python 3 (ipykernel)",
   "language": "python",
   "name": "python3"
  },
  "language_info": {
   "codemirror_mode": {
    "name": "ipython",
    "version": 3
   },
   "file_extension": ".py",
   "mimetype": "text/x-python",
   "name": "python",
   "nbconvert_exporter": "python",
   "pygments_lexer": "ipython3",
   "version": "3.10.5"
  }
 },
 "nbformat": 4,
 "nbformat_minor": 5
}
